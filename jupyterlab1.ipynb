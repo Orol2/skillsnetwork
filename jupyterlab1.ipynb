{
 "cells": [
  {
   "cell_type": "markdown",
   "id": "baef3d5d-21e2-4fd0-996f-fe0d38661cc1",
   "metadata": {},
   "source": [
    "My Jupyter Notebook on IBM Watson Studio"
   ]
  },
  {
   "cell_type": "markdown",
   "id": "ea168eaa-64a5-42e4-804d-f2862757032b",
   "metadata": {},
   "source": [
    "<strong>Orol</strong> <br> Mechanical engineer"
   ]
  },
  {
   "cell_type": "markdown",
   "id": "245447db-f5a5-44fa-99f6-b239bc7c97d1",
   "metadata": {},
   "source": [
    "*I am interested in data science because it gives the opportunity to solve real world problems and discover meaningful insights from data*"
   ]
  },
  {
   "cell_type": "markdown",
   "id": "6041081e-7951-4baa-abed-daf44b55423e",
   "metadata": {},
   "source": [
    "### Below code ads 2 to 2"
   ]
  },
  {
   "cell_type": "code",
   "execution_count": 2,
   "id": "b24c7326-063b-4f76-bdc7-49668a80e265",
   "metadata": {},
   "outputs": [
    {
     "data": {
      "text/plain": [
       "4"
      ]
     },
     "execution_count": 2,
     "metadata": {},
     "output_type": "execute_result"
    }
   ],
   "source": [
    "2 + 2"
   ]
  },
  {
   "cell_type": "markdown",
   "id": "1f755fab-53ea-4b7f-a474-a6fd13b85515",
   "metadata": {},
   "source": [
    "[Hyperlink](https://www.example.com)"
   ]
  },
  {
   "cell_type": "markdown",
   "id": "3240741d-d5cc-4056-995a-0643226143c8",
   "metadata": {},
   "source": [
    "- Bulleted item 1\n",
    "- Bulleted item 2\n",
    "- Bulleted item 3\n",
    "\n",
    "1. Numbered item 1\n",
    "2. Numbered item 2\n",
    "3. Numbered item 3"
   ]
  },
  {
   "cell_type": "code",
   "execution_count": null,
   "id": "a069d82d-2217-4daa-9e00-c1f956de42b2",
   "metadata": {},
   "outputs": [],
   "source": []
  }
 ],
 "metadata": {
  "kernelspec": {
   "display_name": "Python",
   "language": "python",
   "name": "conda-env-python-py"
  },
  "language_info": {
   "codemirror_mode": {
    "name": "ipython",
    "version": 3
   },
   "file_extension": ".py",
   "mimetype": "text/x-python",
   "name": "python",
   "nbconvert_exporter": "python",
   "pygments_lexer": "ipython3",
   "version": "3.7.12"
  }
 },
 "nbformat": 4,
 "nbformat_minor": 5
}
